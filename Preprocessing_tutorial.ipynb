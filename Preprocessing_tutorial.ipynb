{
  "nbformat": 4,
  "nbformat_minor": 0,
  "metadata": {
    "colab": {
      "name": "Preprocessing tutorial.ipynb",
      "provenance": [],
      "authorship_tag": "ABX9TyPsYLQl+9bbEai8oaj1IY5E",
      "include_colab_link": true
    },
    "kernelspec": {
      "name": "python3",
      "display_name": "Python 3"
    },
    "language_info": {
      "name": "python"
    }
  },
  "cells": [
    {
      "cell_type": "markdown",
      "metadata": {
        "id": "view-in-github",
        "colab_type": "text"
      },
      "source": [
        "<a href=\"https://colab.research.google.com/github/HelaMasri/hadoop-cluster/blob/master/Preprocessing_tutorial.ipynb\" target=\"_parent\"><img src=\"https://colab.research.google.com/assets/colab-badge.svg\" alt=\"Open In Colab\"/></a>"
      ]
    },
    {
      "cell_type": "markdown",
      "metadata": {
        "id": "0vm85LnFv3S_"
      },
      "source": [
        "**Data preprocessing** is a technique that is used to transform raw data into an understandable format. Raw data often contains numerous errors (lacking attribute values or certain attributes or only containing aggregate data) and lacks consistency (containing discrepancies in the code) and completeness. This is where data preprocessing comes into the picture and provides a proven method of resolving such issues.\n",
        "\n",
        "Steps involved in Data Preprocessing in Machine Learning\n",
        "1.\tImporting necessary libraries.\n",
        "2.\tImporting the data-set.\n",
        "3.\tChecking and handling the missing values.\n",
        "4.\tEncoding Categorical Data.\n",
        "5.\tFeature Scaling.\n"
      ]
    },
    {
      "cell_type": "markdown",
      "metadata": {
        "id": "OCfdsyQnwLEC"
      },
      "source": [
        "# Importing necessary libraries"
      ]
    },
    {
      "cell_type": "markdown",
      "metadata": {
        "id": "p0h99BIiwZ1G"
      },
      "source": [
        "Python has a list of amazing libraries and modules which help us in the data preprocessing process. Therefore in order to implement data preprocessing the first and foremost step is to import the necessary/required libraries.\n",
        "The libraries that we will be using in this tutorial are:\n",
        "**NumPy**\n",
        "NumPy is a Python library that allows you to perform numerical calculations. Think about linear algebra in school (or university) – NumPy is the Python library for it. It’s about matrices and vectors – and doing operations on top of them. At the heart of NumPy is a basic data type, called NumPy array. \n",
        "The NumPy API can be referenced [here](https://numpy.org/doc/stable/reference/index.html).\n",
        "\n",
        "**Pandas**\n",
        "The Pandas library is the fundamental high-level building block for performing practical and real-world data analysis in Python. The Pandas library will not only allow us to import the data sets but also create the matrix of features and the dependent variable vector.\n",
        "The panda API can be referenced [here](https://pandas.pydata.org/docs/reference/index.html).\n",
        "\n",
        "**Matplotlib**\n",
        "The Matplotlib library allows us to plot some awesome charts which is a major requirement in Machine Learning."
      ]
    },
    {
      "cell_type": "code",
      "metadata": {
        "id": "wDP36Er1vzn3"
      },
      "source": [
        "import numpy as np\n",
        "import pandas as pd\n",
        "import matplotlib.pyplot as plt\n"
      ],
      "execution_count": 3,
      "outputs": []
    },
    {
      "cell_type": "markdown",
      "metadata": {
        "id": "soaKBbS5wvrf"
      },
      "source": [
        "# Importing The Dataset and exploring the data\n",
        "\n",
        "\n",
        "Once we have successfully imported all the required libraries, we then need to import the required dataset. For this purpose, we will be using the pandas library.\n",
        "\n",
        "\n",
        "\n"
      ]
    },
    {
      "cell_type": "markdown",
      "metadata": {
        "id": "CeBEJ-mXALRr"
      },
      "source": [
        " Let's read the data (using read_csv), and take a look at the first 5 lines using the head method:"
      ]
    },
    {
      "cell_type": "code",
      "metadata": {
        "colab": {
          "resources": {
            "http://localhost:8080/nbextensions/google.colab/files.js": {
              "data": "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",
              "ok": true,
              "headers": [
                [
                  "content-type",
                  "application/javascript"
                ]
              ],
              "status": 200,
              "status_text": ""
            }
          },
          "base_uri": "https://localhost:8080/",
          "height": 258
        },
        "id": "RINDp6KzxdWm",
        "outputId": "c17c4b2f-2b45-4ea5-87e3-7947ed6a0a1b"
      },
      "source": [
        "from google.colab import files\n",
        "uploaded = files.upload()\n",
        "dataset = pd.read_csv('data.csv')\n",
        "dataset.head()\n",
        "\n"
      ],
      "execution_count": 34,
      "outputs": [
        {
          "output_type": "display_data",
          "data": {
            "text/html": [
              "\n",
              "     <input type=\"file\" id=\"files-530bc5a0-0392-4fe6-bd00-a7c86e163e32\" name=\"files[]\" multiple disabled\n",
              "        style=\"border:none\" />\n",
              "     <output id=\"result-530bc5a0-0392-4fe6-bd00-a7c86e163e32\">\n",
              "      Upload widget is only available when the cell has been executed in the\n",
              "      current browser session. Please rerun this cell to enable.\n",
              "      </output>\n",
              "      <script src=\"/nbextensions/google.colab/files.js\"></script> "
            ],
            "text/plain": [
              "<IPython.core.display.HTML object>"
            ]
          },
          "metadata": {
            "tags": []
          }
        },
        {
          "output_type": "stream",
          "text": [
            "Saving data.csv to data (3).csv\n"
          ],
          "name": "stdout"
        },
        {
          "output_type": "execute_result",
          "data": {
            "text/html": [
              "<div>\n",
              "<style scoped>\n",
              "    .dataframe tbody tr th:only-of-type {\n",
              "        vertical-align: middle;\n",
              "    }\n",
              "\n",
              "    .dataframe tbody tr th {\n",
              "        vertical-align: top;\n",
              "    }\n",
              "\n",
              "    .dataframe thead th {\n",
              "        text-align: right;\n",
              "    }\n",
              "</style>\n",
              "<table border=\"1\" class=\"dataframe\">\n",
              "  <thead>\n",
              "    <tr style=\"text-align: right;\">\n",
              "      <th></th>\n",
              "      <th>Country</th>\n",
              "      <th>Age</th>\n",
              "      <th>Salary</th>\n",
              "      <th>Purchased</th>\n",
              "    </tr>\n",
              "  </thead>\n",
              "  <tbody>\n",
              "    <tr>\n",
              "      <th>0</th>\n",
              "      <td>France</td>\n",
              "      <td>44.0</td>\n",
              "      <td>72000.0</td>\n",
              "      <td>No</td>\n",
              "    </tr>\n",
              "    <tr>\n",
              "      <th>1</th>\n",
              "      <td>Spain</td>\n",
              "      <td>27.0</td>\n",
              "      <td>48000.0</td>\n",
              "      <td>Yes</td>\n",
              "    </tr>\n",
              "    <tr>\n",
              "      <th>2</th>\n",
              "      <td>Germany</td>\n",
              "      <td>30.0</td>\n",
              "      <td>54000.0</td>\n",
              "      <td>No</td>\n",
              "    </tr>\n",
              "    <tr>\n",
              "      <th>3</th>\n",
              "      <td>Spain</td>\n",
              "      <td>38.0</td>\n",
              "      <td>61000.0</td>\n",
              "      <td>No</td>\n",
              "    </tr>\n",
              "    <tr>\n",
              "      <th>4</th>\n",
              "      <td>Germany</td>\n",
              "      <td>40.0</td>\n",
              "      <td>NaN</td>\n",
              "      <td>Yes</td>\n",
              "    </tr>\n",
              "  </tbody>\n",
              "</table>\n",
              "</div>"
            ],
            "text/plain": [
              "   Country   Age   Salary Purchased\n",
              "0   France  44.0  72000.0        No\n",
              "1    Spain  27.0  48000.0       Yes\n",
              "2  Germany  30.0  54000.0        No\n",
              "3    Spain  38.0  61000.0        No\n",
              "4  Germany  40.0      NaN       Yes"
            ]
          },
          "metadata": {
            "tags": []
          },
          "execution_count": 34
        }
      ]
    },
    {
      "cell_type": "markdown",
      "metadata": {
        "id": "5ppRz7qoAwfo"
      },
      "source": [
        "Let’s have a look at data dimensionality, feature names, and feature types.\n",
        "\n"
      ]
    },
    {
      "cell_type": "code",
      "metadata": {
        "colab": {
          "base_uri": "https://localhost:8080/"
        },
        "id": "VLLF_l2kAxQS",
        "outputId": "4bc895a7-e5b2-42ad-a302-f97f40da965c"
      },
      "source": [
        "print(dataset.shape)"
      ],
      "execution_count": 8,
      "outputs": [
        {
          "output_type": "stream",
          "text": [
            "(10, 4)\n"
          ],
          "name": "stdout"
        }
      ]
    },
    {
      "cell_type": "markdown",
      "metadata": {
        "id": "q9cAZt-BCPOH"
      },
      "source": [
        "From the output, we can see that the table contains 10 rows and 4 columns.\n",
        "\n",
        "Now let's try printing out column names using columns:"
      ]
    },
    {
      "cell_type": "code",
      "metadata": {
        "colab": {
          "base_uri": "https://localhost:8080/"
        },
        "id": "5u7gXjgQCTNl",
        "outputId": "bace7464-cb7f-46b2-c075-ae368c0884af"
      },
      "source": [
        "print(dataset.columns)"
      ],
      "execution_count": 9,
      "outputs": [
        {
          "output_type": "stream",
          "text": [
            "Index(['Country', 'Age', 'Salary', 'Purchased'], dtype='object')\n"
          ],
          "name": "stdout"
        }
      ]
    },
    {
      "cell_type": "markdown",
      "metadata": {
        "id": "wLwavdqYCg85"
      },
      "source": [
        "We can use the info() method to output some general information about the dataframe:"
      ]
    },
    {
      "cell_type": "code",
      "metadata": {
        "colab": {
          "base_uri": "https://localhost:8080/"
        },
        "id": "2-j0JN24Clcm",
        "outputId": "90b8b39e-a878-4468-8a16-b99b00c4aff0"
      },
      "source": [
        "print(dataset.info())"
      ],
      "execution_count": 11,
      "outputs": [
        {
          "output_type": "stream",
          "text": [
            "<class 'pandas.core.frame.DataFrame'>\n",
            "RangeIndex: 10 entries, 0 to 9\n",
            "Data columns (total 4 columns):\n",
            " #   Column     Non-Null Count  Dtype  \n",
            "---  ------     --------------  -----  \n",
            " 0   Country    10 non-null     object \n",
            " 1   Age        9 non-null      float64\n",
            " 2   Salary     9 non-null      float64\n",
            " 3   Purchased  10 non-null     object \n",
            "dtypes: float64(2), object(2)\n",
            "memory usage: 448.0+ bytes\n",
            "None\n"
          ],
          "name": "stdout"
        }
      ]
    },
    {
      "cell_type": "markdown",
      "metadata": {
        "id": "dehyVk6cC2Xt"
      },
      "source": [
        "The **describe** method shows basic statistical characteristics of each numerical feature (int64 and float64 types): number of non-missing values, mean, standard deviation, range, median, 0.25 and 0.75 quartiles."
      ]
    },
    {
      "cell_type": "code",
      "metadata": {
        "colab": {
          "base_uri": "https://localhost:8080/",
          "height": 295
        },
        "id": "ItcCqMxvC6_w",
        "outputId": "28578b9c-554e-4589-d37e-6e92b791d094"
      },
      "source": [
        "dataset.describe()"
      ],
      "execution_count": 12,
      "outputs": [
        {
          "output_type": "execute_result",
          "data": {
            "text/html": [
              "<div>\n",
              "<style scoped>\n",
              "    .dataframe tbody tr th:only-of-type {\n",
              "        vertical-align: middle;\n",
              "    }\n",
              "\n",
              "    .dataframe tbody tr th {\n",
              "        vertical-align: top;\n",
              "    }\n",
              "\n",
              "    .dataframe thead th {\n",
              "        text-align: right;\n",
              "    }\n",
              "</style>\n",
              "<table border=\"1\" class=\"dataframe\">\n",
              "  <thead>\n",
              "    <tr style=\"text-align: right;\">\n",
              "      <th></th>\n",
              "      <th>Age</th>\n",
              "      <th>Salary</th>\n",
              "    </tr>\n",
              "  </thead>\n",
              "  <tbody>\n",
              "    <tr>\n",
              "      <th>count</th>\n",
              "      <td>9.000000</td>\n",
              "      <td>9.000000</td>\n",
              "    </tr>\n",
              "    <tr>\n",
              "      <th>mean</th>\n",
              "      <td>38.777778</td>\n",
              "      <td>63777.777778</td>\n",
              "    </tr>\n",
              "    <tr>\n",
              "      <th>std</th>\n",
              "      <td>7.693793</td>\n",
              "      <td>12265.579662</td>\n",
              "    </tr>\n",
              "    <tr>\n",
              "      <th>min</th>\n",
              "      <td>27.000000</td>\n",
              "      <td>48000.000000</td>\n",
              "    </tr>\n",
              "    <tr>\n",
              "      <th>25%</th>\n",
              "      <td>35.000000</td>\n",
              "      <td>54000.000000</td>\n",
              "    </tr>\n",
              "    <tr>\n",
              "      <th>50%</th>\n",
              "      <td>38.000000</td>\n",
              "      <td>61000.000000</td>\n",
              "    </tr>\n",
              "    <tr>\n",
              "      <th>75%</th>\n",
              "      <td>44.000000</td>\n",
              "      <td>72000.000000</td>\n",
              "    </tr>\n",
              "    <tr>\n",
              "      <th>max</th>\n",
              "      <td>50.000000</td>\n",
              "      <td>83000.000000</td>\n",
              "    </tr>\n",
              "  </tbody>\n",
              "</table>\n",
              "</div>"
            ],
            "text/plain": [
              "             Age        Salary\n",
              "count   9.000000      9.000000\n",
              "mean   38.777778  63777.777778\n",
              "std     7.693793  12265.579662\n",
              "min    27.000000  48000.000000\n",
              "25%    35.000000  54000.000000\n",
              "50%    38.000000  61000.000000\n",
              "75%    44.000000  72000.000000\n",
              "max    50.000000  83000.000000"
            ]
          },
          "metadata": {
            "tags": []
          },
          "execution_count": 12
        }
      ]
    },
    {
      "cell_type": "markdown",
      "metadata": {
        "id": "4BqMEplQDarJ"
      },
      "source": [
        "In order to see statistics on non-numerical features, one has to explicitly indicate data types of interest in the include parameter.\n",
        "\n"
      ]
    },
    {
      "cell_type": "code",
      "metadata": {
        "colab": {
          "base_uri": "https://localhost:8080/",
          "height": 172
        },
        "id": "pdek-yZwDcIG",
        "outputId": "02d66127-f0ec-4563-bf6b-9509700fce9e"
      },
      "source": [
        "dataset.describe(include=['object', 'bool'])"
      ],
      "execution_count": 13,
      "outputs": [
        {
          "output_type": "execute_result",
          "data": {
            "text/html": [
              "<div>\n",
              "<style scoped>\n",
              "    .dataframe tbody tr th:only-of-type {\n",
              "        vertical-align: middle;\n",
              "    }\n",
              "\n",
              "    .dataframe tbody tr th {\n",
              "        vertical-align: top;\n",
              "    }\n",
              "\n",
              "    .dataframe thead th {\n",
              "        text-align: right;\n",
              "    }\n",
              "</style>\n",
              "<table border=\"1\" class=\"dataframe\">\n",
              "  <thead>\n",
              "    <tr style=\"text-align: right;\">\n",
              "      <th></th>\n",
              "      <th>Country</th>\n",
              "      <th>Purchased</th>\n",
              "    </tr>\n",
              "  </thead>\n",
              "  <tbody>\n",
              "    <tr>\n",
              "      <th>count</th>\n",
              "      <td>10</td>\n",
              "      <td>10</td>\n",
              "    </tr>\n",
              "    <tr>\n",
              "      <th>unique</th>\n",
              "      <td>3</td>\n",
              "      <td>2</td>\n",
              "    </tr>\n",
              "    <tr>\n",
              "      <th>top</th>\n",
              "      <td>France</td>\n",
              "      <td>Yes</td>\n",
              "    </tr>\n",
              "    <tr>\n",
              "      <th>freq</th>\n",
              "      <td>4</td>\n",
              "      <td>5</td>\n",
              "    </tr>\n",
              "  </tbody>\n",
              "</table>\n",
              "</div>"
            ],
            "text/plain": [
              "       Country Purchased\n",
              "count       10        10\n",
              "unique       3         2\n",
              "top     France       Yes\n",
              "freq         4         5"
            ]
          },
          "metadata": {
            "tags": []
          },
          "execution_count": 13
        }
      ]
    },
    {
      "cell_type": "markdown",
      "metadata": {
        "id": "zuDoUVlwFA5X"
      },
      "source": [
        "The **matrix of features** is used to describe the list of columns containing the **independent variables** to be processed and includes all lines in the given dataset.\n",
        "The **target variable** vector used to define the list of **dependent** variables in the existing dataset.\n",
        "**iloc** is an indexer for the Pandas Dataframe that is used to select rows and columns by their location/position/index."
      ]
    },
    {
      "cell_type": "code",
      "metadata": {
        "colab": {
          "base_uri": "https://localhost:8080/"
        },
        "id": "FKNASaDCAbUB",
        "outputId": "630fe443-469c-4323-a3cd-543883fb7e91"
      },
      "source": [
        "x = dataset.iloc[:,:-1].values\n",
        "y = dataset.iloc[:,-1].values\n",
        "print(x)\n",
        "print(y)"
      ],
      "execution_count": 35,
      "outputs": [
        {
          "output_type": "stream",
          "text": [
            "[['France' 44.0 72000.0]\n",
            " ['Spain' 27.0 48000.0]\n",
            " ['Germany' 30.0 54000.0]\n",
            " ['Spain' 38.0 61000.0]\n",
            " ['Germany' 40.0 nan]\n",
            " ['France' 35.0 58000.0]\n",
            " ['Spain' nan 52000.0]\n",
            " ['France' 48.0 79000.0]\n",
            " ['Germany' 50.0 83000.0]\n",
            " ['France' 37.0 67000.0]]\n",
            "['No' 'Yes' 'No' 'No' 'Yes' 'Yes' 'No' 'Yes' 'No' 'Yes']\n"
          ],
          "name": "stdout"
        }
      ]
    },
    {
      "cell_type": "markdown",
      "metadata": {
        "id": "zI4rsYByFg3x"
      },
      "source": [
        "# Handling The Missing Values\n",
        "While dealing with datasets, we often encounter missing values which might lead to incorrect deductions. Thus it is very important to handle missing values.\n",
        "\n",
        "There are couple of ways in which we can handle the missing data.\n",
        "\n",
        "**Method 1**: Delete The Particular Row Containing Null Value\n",
        "Drop the rows where at least one element is missing:\n",
        "\n",
        "dataset.dropna(inplace=\"true\")\n",
        "\n",
        "This method is advised only when there are enough samples in the data set. One has to make sure that after we have deleted the data, there is no addition of bias. Removing the data will lead to loss of information which will not give the expected results while predicting the output.\n",
        "\n",
        "**Method 2** Method 2: Replacing The Missing Value With The Mean, Mode, or Median\n",
        "This strategy is best suited for features that have numeric data. We can simply calculate either of the mean, median, or mode of the feature and then replace the missing values with the calculated value. In our case, we will be calculating the mean to replace the missing values. Replacing the missing data with one of the above three approximations is also known as leaking the data while training.\n",
        "\n",
        "➥ To deal with the missing values we need the help of the SimpleImputer class of the scikit-learn library.\n",
        "\n",
        "\n"
      ]
    },
    {
      "cell_type": "code",
      "metadata": {
        "colab": {
          "base_uri": "https://localhost:8080/"
        },
        "id": "dLi_thK6H2sC",
        "outputId": "a2a37bd1-8ca8-444e-e773-95101b4e86d3"
      },
      "source": [
        "dataset.isnull().sum()"
      ],
      "execution_count": 15,
      "outputs": [
        {
          "output_type": "execute_result",
          "data": {
            "text/plain": [
              "Country      0\n",
              "Age          1\n",
              "Salary       1\n",
              "Purchased    0\n",
              "dtype: int64"
            ]
          },
          "metadata": {
            "tags": []
          },
          "execution_count": 15
        }
      ]
    },
    {
      "cell_type": "code",
      "metadata": {
        "id": "Spkt5YecH_Zj"
      },
      "source": [
        "x"
      ],
      "execution_count": null,
      "outputs": []
    },
    {
      "cell_type": "code",
      "metadata": {
        "colab": {
          "base_uri": "https://localhost:8080/",
          "height": 374
        },
        "id": "ZUMSq44sIDld",
        "outputId": "e58240dd-f5d1-4c63-9e47-0ecdb286adf6"
      },
      "source": [
        "print(dataset['Age'].mean())\n",
        "dataset\n"
      ],
      "execution_count": 28,
      "outputs": [
        {
          "output_type": "stream",
          "text": [
            "38.77777777777778\n"
          ],
          "name": "stdout"
        },
        {
          "output_type": "execute_result",
          "data": {
            "text/html": [
              "<div>\n",
              "<style scoped>\n",
              "    .dataframe tbody tr th:only-of-type {\n",
              "        vertical-align: middle;\n",
              "    }\n",
              "\n",
              "    .dataframe tbody tr th {\n",
              "        vertical-align: top;\n",
              "    }\n",
              "\n",
              "    .dataframe thead th {\n",
              "        text-align: right;\n",
              "    }\n",
              "</style>\n",
              "<table border=\"1\" class=\"dataframe\">\n",
              "  <thead>\n",
              "    <tr style=\"text-align: right;\">\n",
              "      <th></th>\n",
              "      <th>Country</th>\n",
              "      <th>Age</th>\n",
              "      <th>Salary</th>\n",
              "      <th>Purchased</th>\n",
              "    </tr>\n",
              "  </thead>\n",
              "  <tbody>\n",
              "    <tr>\n",
              "      <th>0</th>\n",
              "      <td>France</td>\n",
              "      <td>44.0</td>\n",
              "      <td>72000.0</td>\n",
              "      <td>No</td>\n",
              "    </tr>\n",
              "    <tr>\n",
              "      <th>1</th>\n",
              "      <td>Spain</td>\n",
              "      <td>27.0</td>\n",
              "      <td>48000.0</td>\n",
              "      <td>Yes</td>\n",
              "    </tr>\n",
              "    <tr>\n",
              "      <th>2</th>\n",
              "      <td>Germany</td>\n",
              "      <td>30.0</td>\n",
              "      <td>54000.0</td>\n",
              "      <td>No</td>\n",
              "    </tr>\n",
              "    <tr>\n",
              "      <th>3</th>\n",
              "      <td>Spain</td>\n",
              "      <td>38.0</td>\n",
              "      <td>61000.0</td>\n",
              "      <td>No</td>\n",
              "    </tr>\n",
              "    <tr>\n",
              "      <th>4</th>\n",
              "      <td>Germany</td>\n",
              "      <td>40.0</td>\n",
              "      <td>NaN</td>\n",
              "      <td>Yes</td>\n",
              "    </tr>\n",
              "    <tr>\n",
              "      <th>5</th>\n",
              "      <td>France</td>\n",
              "      <td>35.0</td>\n",
              "      <td>58000.0</td>\n",
              "      <td>Yes</td>\n",
              "    </tr>\n",
              "    <tr>\n",
              "      <th>6</th>\n",
              "      <td>Spain</td>\n",
              "      <td>NaN</td>\n",
              "      <td>52000.0</td>\n",
              "      <td>No</td>\n",
              "    </tr>\n",
              "    <tr>\n",
              "      <th>7</th>\n",
              "      <td>France</td>\n",
              "      <td>48.0</td>\n",
              "      <td>79000.0</td>\n",
              "      <td>Yes</td>\n",
              "    </tr>\n",
              "    <tr>\n",
              "      <th>8</th>\n",
              "      <td>Germany</td>\n",
              "      <td>50.0</td>\n",
              "      <td>83000.0</td>\n",
              "      <td>No</td>\n",
              "    </tr>\n",
              "    <tr>\n",
              "      <th>9</th>\n",
              "      <td>France</td>\n",
              "      <td>37.0</td>\n",
              "      <td>67000.0</td>\n",
              "      <td>Yes</td>\n",
              "    </tr>\n",
              "  </tbody>\n",
              "</table>\n",
              "</div>"
            ],
            "text/plain": [
              "   Country   Age   Salary Purchased\n",
              "0   France  44.0  72000.0        No\n",
              "1    Spain  27.0  48000.0       Yes\n",
              "2  Germany  30.0  54000.0        No\n",
              "3    Spain  38.0  61000.0        No\n",
              "4  Germany  40.0      NaN       Yes\n",
              "5   France  35.0  58000.0       Yes\n",
              "6    Spain   NaN  52000.0        No\n",
              "7   France  48.0  79000.0       Yes\n",
              "8  Germany  50.0  83000.0        No\n",
              "9   France  37.0  67000.0       Yes"
            ]
          },
          "metadata": {
            "tags": []
          },
          "execution_count": 28
        }
      ]
    },
    {
      "cell_type": "code",
      "metadata": {
        "colab": {
          "base_uri": "https://localhost:8080/"
        },
        "id": "I0ndsXwX_5r7",
        "outputId": "9a2349db-46ed-4435-a0aa-6c9d40558354"
      },
      "source": [
        "from sklearn.impute import SimpleImputer\n",
        "imputer = SimpleImputer(missing_values=np.nan, strategy='mean')\n",
        "imputer.fit(x[:, 1:3])\n",
        "x[:, 1:3] = imputer.transform(x[:, 1:3])\n",
        "print(x)"
      ],
      "execution_count": 36,
      "outputs": [
        {
          "output_type": "stream",
          "text": [
            "[['France' 44.0 72000.0]\n",
            " ['Spain' 27.0 48000.0]\n",
            " ['Germany' 30.0 54000.0]\n",
            " ['Spain' 38.0 61000.0]\n",
            " ['Germany' 40.0 63777.77777777778]\n",
            " ['France' 35.0 58000.0]\n",
            " ['Spain' 38.77777777777778 52000.0]\n",
            " ['France' 48.0 79000.0]\n",
            " ['Germany' 50.0 83000.0]\n",
            " ['France' 37.0 67000.0]]\n"
          ],
          "name": "stdout"
        }
      ]
    },
    {
      "cell_type": "markdown",
      "metadata": {
        "id": "9KMG6kz3KeQz"
      },
      "source": [
        "# Encoding Categorical Data\n",
        "Since, most of the machine learning models are based on Mathematical equations and you can intuitively understand that it would cause some problem if we can keep the Categorical data in the equations because we would only want numbers in the equations.\n",
        "So, we need to encode the Categorical Variable.\n",
        "\n",
        "Like in our data set Country column will cause problem, so will convert into numerical values. To convert Categorical variable into Numerical data we can use **LabelEncoder() **class from preprocessing library."
      ]
    },
    {
      "cell_type": "code",
      "metadata": {
        "id": "GcwPKPSHlb3V"
      },
      "source": [
        "from sklearn.preprocessing import LabelEncoder,OneHotEncoder"
      ],
      "execution_count": 40,
      "outputs": []
    },
    {
      "cell_type": "code",
      "metadata": {
        "id": "gpwcUWDsjsUF"
      },
      "source": [
        "\n",
        "le_X = LabelEncoder()\n",
        "x[:,0] = le_X.fit_transform(x[:,0])"
      ],
      "execution_count": 32,
      "outputs": []
    },
    {
      "cell_type": "code",
      "metadata": {
        "id": "S8Q56HLPj4CJ"
      },
      "source": [
        "x\n"
      ],
      "execution_count": null,
      "outputs": []
    },
    {
      "cell_type": "markdown",
      "metadata": {
        "id": "I9aT-y-2pMCb"
      },
      "source": [
        "**One-Hot Encoding**\n",
        "One hot encoding takes a column that has categorical data and then splits the column into multiple columns. Depending on which column has what value, they are replaced by 1s and 0s.\n",
        "\n",
        "In our example, we will get three new columns, one for each country — India, Germany, and Japan. For rows with the first column value as Germany, the ‘Germany’ column will be split into three columns such that, the first column will have ‘1’ and the other two columns will have ‘0’s. Similarly, for rows that have the first column value as India, the second column will have ‘1’ and the other two columns will have ‘0’s. And for rows that have the first column value as Japan, the third column will have ‘1’ and the other two columns will have ‘0’s.\n",
        "\n",
        "➥ To implement One-Hot Encoding we need the help of the OneHotEncoder class of the scikit-learn libraries’ preprocessing module and the ColumnTransformer class of the compose module."
      ]
    },
    {
      "cell_type": "code",
      "metadata": {
        "colab": {
          "base_uri": "https://localhost:8080/"
        },
        "id": "C9bCP_MnlKXU",
        "outputId": "c96bbf68-aac1-44ed-c4cc-403e95dccf80"
      },
      "source": [
        "from sklearn.compose import ColumnTransformer \n",
        "ct = ColumnTransformer([('encoder', OneHotEncoder(),[0])], remainder=\"passthrough\") # The last arg ([0]) is the list of columns you want to transform in this step\n",
        "x =np.array(ct.fit_transform(x))\n",
        "x"
      ],
      "execution_count": 49,
      "outputs": [
        {
          "output_type": "execute_result",
          "data": {
            "text/plain": [
              "array([[1.0, 0.0, 0.0, 44.0, 72000.0],\n",
              "       [0.0, 0.0, 1.0, 27.0, 48000.0],\n",
              "       [0.0, 1.0, 0.0, 30.0, 54000.0],\n",
              "       [0.0, 0.0, 1.0, 38.0, 61000.0],\n",
              "       [0.0, 1.0, 0.0, 40.0, 63777.77777777778],\n",
              "       [1.0, 0.0, 0.0, 35.0, 58000.0],\n",
              "       [0.0, 0.0, 1.0, 38.77777777777778, 52000.0],\n",
              "       [1.0, 0.0, 0.0, 48.0, 79000.0],\n",
              "       [0.0, 1.0, 0.0, 50.0, 83000.0],\n",
              "       [1.0, 0.0, 0.0, 37.0, 67000.0]], dtype=object)"
            ]
          },
          "metadata": {
            "tags": []
          },
          "execution_count": 49
        }
      ]
    },
    {
      "cell_type": "markdown",
      "metadata": {
        "id": "PPgn-9NapBab"
      },
      "source": [
        "# Feature Scaling\n",
        "\n",
        "Feature scaling is the method to limit the range of variables so that they can be compared on common grounds.\n",
        "See the Age and Salary column. You can easily noticed Salary and Age variable don’t have the same scale and this will cause some issue in your machine learning model.\n",
        "\n",
        "Let’s say we take two values from Age and Salary column\n",
        "Age- 40 and 27\n",
        "Salary- 72000 and 48000\n",
        "\n",
        "\n",
        "\n",
        "One can easily compute and see that age column will be dominated.\n",
        "So, there are several ways of scaling your data. \n",
        "![1_hfBP5fW1tVyhGpm61j8Snw.png](data:image/png;base64,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)\n",
        "\n",
        "\n",
        "\n",
        "Since machine learning models rely on numbers to solve relations it is important to have similarly scaled data in a dataset. Scaling ensures that all data in a dataset falls in the same range.Unscaled data can cause inaccurate or false predictions.Some machine learning algorithms can handle feature scaling on its own and doesn’t require it explicitly.\n",
        "\n",
        "As an example we give the code of the 3rd scalling method. We need to import the StandardScaler class of the scikit-learn library.\n",
        "Then we create the object of StandardScaler class.\n",
        "After that, we fit and transform the dataset \n"
      ]
    },
    {
      "cell_type": "code",
      "metadata": {
        "colab": {
          "base_uri": "https://localhost:8080/"
        },
        "id": "2ngwIGjZsSpD",
        "outputId": "16132364-c88e-4819-bcdd-7297e58ecc59"
      },
      "source": [
        "\n",
        "from sklearn.preprocessing import StandardScaler\n",
        "\n",
        "sc = StandardScaler()\n",
        "\n",
        "x[:, 3:] = sc.fit_transform(x[:, 3:])\n",
        "x"
      ],
      "execution_count": 51,
      "outputs": [
        {
          "output_type": "execute_result",
          "data": {
            "text/plain": [
              "array([[1.0, 0.0, 0.0, 0.758874361590019, 0.7494732544921677],\n",
              "       [0.0, 0.0, 1.0, -1.7115038793306814, -1.4381784072687531],\n",
              "       [0.0, 1.0, 0.0, -1.2755547779917342, -0.8912654918285229],\n",
              "       [0.0, 0.0, 1.0, -0.1130238410878753, -0.253200423814921],\n",
              "       [0.0, 1.0, 0.0, 0.17760889313808945, 6.632191985654332e-16],\n",
              "       [1.0, 0.0, 0.0, -0.5489729424268225, -0.5266568815350361],\n",
              "       [0.0, 0.0, 1.0, 0.0, -1.0735697969752662],\n",
              "       [1.0, 0.0, 0.0, 1.3401398300419485, 1.3875383225057696],\n",
              "       [0.0, 1.0, 0.0, 1.6307725642679132, 1.7521469327992565],\n",
              "       [1.0, 0.0, 0.0, -0.2583402082008577, 0.29371249162530916]],\n",
              "      dtype=object)"
            ]
          },
          "metadata": {
            "tags": []
          },
          "execution_count": 51
        }
      ]
    }
  ]
}